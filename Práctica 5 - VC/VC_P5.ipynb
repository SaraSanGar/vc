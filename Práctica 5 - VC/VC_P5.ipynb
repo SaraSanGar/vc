{
 "cells": [
  {
   "cell_type": "markdown",
   "metadata": {},
   "source": [
    "Importaciones:"
   ]
  },
  {
   "cell_type": "code",
   "execution_count": 8,
   "metadata": {},
   "outputs": [],
   "source": [
    "import cv2  \n",
    "import math \n",
    "import pytesseract\n",
    "import re\n",
    "\n",
    "from ultralytics import YOLO"
   ]
  },
  {
   "cell_type": "markdown",
   "metadata": {},
   "source": [
    "Verificar si la ruta de Tesseract está en el PATH"
   ]
  },
  {
   "cell_type": "code",
   "execution_count": 9,
   "metadata": {},
   "outputs": [],
   "source": [
    "# Si la ruta de Tesseract no está en el PATH, ruta al ejecutable\n",
    "pytesseract.pytesseract.tesseract_cmd = r'C:/Program Files/Tesseract-OCR/tesseract'\n",
    "detector = r'\\d+.[A-Z]+'"
   ]
  },
  {
   "cell_type": "markdown",
   "metadata": {},
   "source": [
    "Activación de la cámara y detección de matrículas:"
   ]
  },
  {
   "cell_type": "markdown",
   "metadata": {},
   "source": [
    "# Modelo Yolo"
   ]
  },
  {
   "cell_type": "code",
   "execution_count": null,
   "metadata": {},
   "outputs": [],
   "source": [
    "# Carga del modelo\n",
    "model = YOLO('yolov8n.pt')\n",
    "\n",
    "# Captura desde lawebcam\n",
    "vid = cv2.VideoCapture(0)\n",
    "\n",
    "while(True):      \n",
    "    # fotograma a fotograma\n",
    "    ret, img = vid.read()\n",
    "  \n",
    "    # si hay imagen válida\n",
    "    if ret:  \n",
    "        # Perform inference on an image\n",
    "        results = model(img, stream=True)\n",
    "\n",
    "        # Para cada detección\n",
    "        for r in results:\n",
    "            boxes = r.boxes\n",
    "            for box in boxes:\n",
    "                if int(box.cls[0]) == 2:\n",
    "                    # Contenedor\n",
    "                    x1, y1, x2, y2 = box.xyxy[0]\n",
    "                    x1, y1, x2, y2 = int(x1), int(y1), int(x2), int(y2) # convert to int values\n",
    "\n",
    "                    # Dibuja el contenedor del coche\n",
    "                    cv2.rectangle(img, (x1, y1), (x2, y2), (0, 0, 255), 3)\n",
    "\n",
    "                    # Dibuja el contenedor de la mitad inferior del coche\n",
    "                    cv2.rectangle(img, (x1, y1+(y2-y1)//2), (x2, y2), (255, 0, 0), 3)\n",
    "                   \n",
    "                    # Extraemos el fragmento de la matrícula\n",
    "                    slice = img[y1+(y2-y1)//2:y2,x1:x2]\n",
    "\n",
    "                    #cv2.imshow('slice', slice)\n",
    "\n",
    "                    # Lo convertimos a RGB\n",
    "                    img_rgb = cv2.cvtColor(slice, cv2.COLOR_BGR2RGB)\n",
    "\n",
    "                    # Detectamos el texto del fragmento\n",
    "                    text = pytesseract.image_to_string(img_rgb, config='--psm 6')\n",
    "                    matricula_limpia = str(re.findall(detector, text))\n",
    "                    cv2.putText(img, matricula_limpia , [x1, y1+(y2-y1)//2], cv2.FONT_HERSHEY_SIMPLEX, 1, (0, 0, 255), 2)\n",
    "            \n",
    "        # Muestra fotograma\n",
    "        cv2.imshow('Vid', img)\n",
    "    \n",
    "    # Detenemos pulsado ESC\n",
    "    if cv2.waitKey(20) == 27:\n",
    "        break\n",
    "  \n",
    "# Libera el objeto de captura\n",
    "vid.release()\n",
    "# Destruye ventanas\n",
    "cv2.destroyAllWindows()"
   ]
  },
  {
   "cell_type": "code",
   "execution_count": 11,
   "metadata": {},
   "outputs": [
    {
     "name": "stdout",
     "output_type": "stream",
     "text": [
      "['eng', 'osd']\n",
      "Texto detctado: 7 am. v se\n",
      "\n",
      "‘a a\n",
      "BS BO411 KMT R=!\n",
      "Scere ee TT mi\n",
      "\n",
      "Texto limpio: ['411 KMT']\n"
     ]
    }
   ],
   "source": [
    "# Tesseract\n",
    "import cv2\n",
    "import pytesseract\n",
    "\n",
    "# Previamente debes descargar los ejecutables\n",
    "# Si la ruta de Tesseract no está en el PATH, ruta al ejecutable\n",
    "pytesseract.pytesseract.tesseract_cmd = r'C:/Program Files/Tesseract-OCR/tesseract'\n",
    "\n",
    "# Lenguajes disponibles\n",
    "print(pytesseract.get_languages(config=''))\n",
    "\n",
    "#Cargo imagen y ocnvierto a RGB\n",
    "img = cv2.imread('c.jpeg') \n",
    "img_rgb = cv2.cvtColor(img, cv2.COLOR_BGR2RGB)\n",
    "\n",
    "#Aplica reconocedor a imagen cargada\n",
    "text = pytesseract.image_to_string(img_rgb,config='--psm 6')\n",
    "matricula_limpia = re.findall(detector, text)\n",
    "print(\"Texto detctado:\", text)\n",
    "print(\"Texto limpio:\", matricula_limpia)\n",
    "\n"
   ]
  },
  {
   "cell_type": "markdown",
   "metadata": {},
   "source": [
    "# Modelo entrenado\n"
   ]
  },
  {
   "cell_type": "code",
   "execution_count": null,
   "metadata": {},
   "outputs": [],
   "source": [
    "# Carga del modelo\n",
    "model = YOLO('./best.pt')\n",
    "\n",
    "# Captura desde lawebcam\n",
    "vid = cv2.VideoCapture(0)\n",
    "\n",
    "while(True):      \n",
    "    # fotograma a fotograma\n",
    "    ret, img = vid.read()\n",
    "  \n",
    "    # si hay imagen válida\n",
    "    if ret:  \n",
    "        # Perform inference on an image\n",
    "        results = model(img, stream=True)\n",
    "\n",
    "        # Para cada detección\n",
    "        for r in results:\n",
    "            boxes = r.boxes\n",
    "            for box in boxes:\n",
    "                \n",
    "                # Contenedor\n",
    "                x1, y1, x2, y2 = box.xyxy[0]\n",
    "                x1, y1, x2, y2 = int(x1), int(y1), int(x2), int(y2) # convert to int values\n",
    "\n",
    "                # Dibuja el contenedor de la matricula\n",
    "                cv2.rectangle(img, (x1, y1), (x2, y2), (0, 0, 255), 3)\n",
    "                   \n",
    "                # Extraemos el fragmento de la matrícula\n",
    "                slice = img[y1:y2,x1:x2]\n",
    "\n",
    "                #cv2.imshow('slice', slice)\n",
    "\n",
    "                # Lo convertimos a RGB\n",
    "                img_rgb = cv2.cvtColor(slice, cv2.COLOR_BGR2RGB)\n",
    "\n",
    "                # Detectamos el texto del fragmento\n",
    "                text = pytesseract.image_to_string(img_rgb, config='--psm 6')\n",
    "                matricula_limpia= str(re.findall(detector, text))\n",
    "                cv2.putText(img, matricula_limpia , [x1, y1-20], cv2.FONT_HERSHEY_SIMPLEX, 1, (0, 0, 255), 2)\n",
    "            \n",
    "        # Muestra fotograma\n",
    "        cv2.imshow('Vid', img)\n",
    "    \n",
    "    # Detenemos pulsado ESC\n",
    "    if cv2.waitKey(20) == 27:\n",
    "        break\n",
    "  \n",
    "# Libera el objeto de captura\n",
    "vid.release()\n",
    "# Destruye ventanas\n",
    "cv2.destroyAllWindows()"
   ]
  }
 ],
 "metadata": {
  "kernelspec": {
   "display_name": "VC_Yolo",
   "language": "python",
   "name": "python3"
  },
  "language_info": {
   "codemirror_mode": {
    "name": "ipython",
    "version": 3
   },
   "file_extension": ".py",
   "mimetype": "text/x-python",
   "name": "python",
   "nbconvert_exporter": "python",
   "pygments_lexer": "ipython3",
   "version": "3.7.16"
  }
 },
 "nbformat": 4,
 "nbformat_minor": 2
}
